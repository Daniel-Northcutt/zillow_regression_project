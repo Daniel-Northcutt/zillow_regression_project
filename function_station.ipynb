{
 "cells": [
  {
   "cell_type": "markdown",
   "id": "ac736be2",
   "metadata": {},
   "source": [
    "## ORDER:\n",
    "\n",
    "- Acquire\n",
    "- CSV & Function\n",
    "- Drop Columns (remove tax to prevent leakage)\n",
    "- Rename Columns\n",
    "- Remove Outliers\n",
    "- Remove Duplicates\n",
    "- Convert Datatypes\n",
    "- Split it right\n",
    "\n",
    "- Throw into a wrangle.py w/ comments"
   ]
  },
  {
   "cell_type": "code",
   "execution_count": 1,
   "id": "bf984f96",
   "metadata": {},
   "outputs": [],
   "source": [
    "import pandas as pd\n",
    "import numpy as np\n",
    "import os\n",
    "from env import host, user, password\n",
    "from sklearn.model_selection import train_test_split\n",
    "import sklearn.preprocessing"
   ]
  },
  {
   "cell_type": "code",
   "execution_count": 2,
   "id": "4ca64c96",
   "metadata": {},
   "outputs": [],
   "source": [
    "def get_connection(db, user=user, host=host, password=password):\n",
    "    '''\n",
    "    This function uses my info from my env file to\n",
    "    create a connection url to access the Codeup db.\n",
    "    It takes in a string name of a database as an argument.\n",
    "    '''\n",
    "    return f'mysql+pymysql://{user}:{password}@{host}/{db}'"
   ]
  },
  {
   "cell_type": "code",
   "execution_count": 3,
   "id": "72340916",
   "metadata": {},
   "outputs": [],
   "source": [
    "def new_zillow_data():\n",
    "    '''\n",
    "    This function reads the Bed/Bath count, Finished Sq Ft, Taxable Value, Year Built, and Amount Taxed\n",
    "    from the 2017 Properties Zillow data from the Codeup SQL server into a df.\n",
    "    '''\n",
    "    sql_query = \"\"\"\n",
    "                SELECT bedroomcnt, bathroomcnt, calculatedfinishedsquarefeet, \n",
    "                taxvaluedollarcnt, yearbuilt, fips, transactiondate\n",
    "                FROM properties_2017\n",
    "                JOIN propertylandusetype USING(propertylandusetypeid)\n",
    "                JOIN predictions_2017 USING(parcelid)\n",
    "                WHERE propertylandusetype.propertylandusetypeid = 261 AND 279;\n",
    "                \"\"\"\n",
    "    \n",
    "    # Read in DataFrame from Codeup db.\n",
    "    df = pd.read_sql(sql_query, get_connection('zillow'))\n",
    "    \n",
    "    return df"
   ]
  },
  {
   "cell_type": "code",
   "execution_count": null,
   "id": "fbb8d66d",
   "metadata": {},
   "outputs": [],
   "source": []
  },
  {
   "cell_type": "code",
   "execution_count": 4,
   "id": "0e8f7266",
   "metadata": {},
   "outputs": [],
   "source": [
    "#                 SELECT bedroomcnt, bathroomcnt, calculatedfinishedsquarefeet, \n",
    "#                 taxvaluedollarcnt, yearbuilt, taxamount, fips, transactiondate\n",
    "#                 FROM properties_2017\n",
    "#                 JOIN predictions_2017 as p USING(parcelid)\n",
    "#                 WHERE transactiondate < '2018-01-01' AND propertylandusetypeid LIKE '261'"
   ]
  },
  {
   "cell_type": "code",
   "execution_count": 5,
   "id": "9b39c0b9",
   "metadata": {},
   "outputs": [],
   "source": [
    "def get_zillow_data():\n",
    "    '''\n",
    "    This function reads in zillow data from the Codeup database, writes data to\n",
    "    a csv file if a local file does not exist, and returns a df.\n",
    "    '''\n",
    "    if os.path.isfile('zillow.csv'):\n",
    "        \n",
    "        # If csv file exists read in data from csv file.\n",
    "        df = pd.read_csv('zillow.csv', index_col=0)\n",
    "        \n",
    "    else:\n",
    "        \n",
    "        # Read fresh data from db into a DataFrame\n",
    "        df = new_zillow_data()\n",
    "        \n",
    "        # Cache data\n",
    "        df.to_csv('zillow.csv')\n",
    "        \n",
    "    return df"
   ]
  },
  {
   "cell_type": "code",
   "execution_count": 6,
   "id": "ad262e48",
   "metadata": {},
   "outputs": [],
   "source": [
    "zillow = get_zillow_data()\n"
   ]
  },
  {
   "cell_type": "code",
   "execution_count": 7,
   "id": "2bd20b0d",
   "metadata": {},
   "outputs": [
    {
     "data": {
      "text/html": [
       "<div>\n",
       "<style scoped>\n",
       "    .dataframe tbody tr th:only-of-type {\n",
       "        vertical-align: middle;\n",
       "    }\n",
       "\n",
       "    .dataframe tbody tr th {\n",
       "        vertical-align: top;\n",
       "    }\n",
       "\n",
       "    .dataframe thead th {\n",
       "        text-align: right;\n",
       "    }\n",
       "</style>\n",
       "<table border=\"1\" class=\"dataframe\">\n",
       "  <thead>\n",
       "    <tr style=\"text-align: right;\">\n",
       "      <th></th>\n",
       "      <th>bedroomcnt</th>\n",
       "      <th>bathroomcnt</th>\n",
       "      <th>calculatedfinishedsquarefeet</th>\n",
       "      <th>taxvaluedollarcnt</th>\n",
       "      <th>yearbuilt</th>\n",
       "      <th>fips</th>\n",
       "      <th>transactiondate</th>\n",
       "    </tr>\n",
       "  </thead>\n",
       "  <tbody>\n",
       "    <tr>\n",
       "      <th>0</th>\n",
       "      <td>4.0</td>\n",
       "      <td>3.5</td>\n",
       "      <td>3100.0</td>\n",
       "      <td>1023282.0</td>\n",
       "      <td>1998.0</td>\n",
       "      <td>6059.0</td>\n",
       "      <td>2017-01-01</td>\n",
       "    </tr>\n",
       "    <tr>\n",
       "      <th>1</th>\n",
       "      <td>2.0</td>\n",
       "      <td>1.0</td>\n",
       "      <td>1465.0</td>\n",
       "      <td>464000.0</td>\n",
       "      <td>1967.0</td>\n",
       "      <td>6111.0</td>\n",
       "      <td>2017-01-01</td>\n",
       "    </tr>\n",
       "    <tr>\n",
       "      <th>2</th>\n",
       "      <td>3.0</td>\n",
       "      <td>2.0</td>\n",
       "      <td>1243.0</td>\n",
       "      <td>564778.0</td>\n",
       "      <td>1962.0</td>\n",
       "      <td>6059.0</td>\n",
       "      <td>2017-01-01</td>\n",
       "    </tr>\n",
       "    <tr>\n",
       "      <th>3</th>\n",
       "      <td>4.0</td>\n",
       "      <td>3.0</td>\n",
       "      <td>2376.0</td>\n",
       "      <td>145143.0</td>\n",
       "      <td>1970.0</td>\n",
       "      <td>6037.0</td>\n",
       "      <td>2017-01-01</td>\n",
       "    </tr>\n",
       "    <tr>\n",
       "      <th>4</th>\n",
       "      <td>4.0</td>\n",
       "      <td>3.0</td>\n",
       "      <td>2962.0</td>\n",
       "      <td>773303.0</td>\n",
       "      <td>1950.0</td>\n",
       "      <td>6037.0</td>\n",
       "      <td>2017-01-01</td>\n",
       "    </tr>\n",
       "  </tbody>\n",
       "</table>\n",
       "</div>"
      ],
      "text/plain": [
       "   bedroomcnt  bathroomcnt  calculatedfinishedsquarefeet  taxvaluedollarcnt  \\\n",
       "0         4.0          3.5                        3100.0          1023282.0   \n",
       "1         2.0          1.0                        1465.0           464000.0   \n",
       "2         3.0          2.0                        1243.0           564778.0   \n",
       "3         4.0          3.0                        2376.0           145143.0   \n",
       "4         4.0          3.0                        2962.0           773303.0   \n",
       "\n",
       "   yearbuilt    fips transactiondate  \n",
       "0     1998.0  6059.0      2017-01-01  \n",
       "1     1967.0  6111.0      2017-01-01  \n",
       "2     1962.0  6059.0      2017-01-01  \n",
       "3     1970.0  6037.0      2017-01-01  \n",
       "4     1950.0  6037.0      2017-01-01  "
      ]
     },
     "execution_count": 7,
     "metadata": {},
     "output_type": "execute_result"
    }
   ],
   "source": [
    "zillow.head()"
   ]
  },
  {
   "cell_type": "code",
   "execution_count": 8,
   "id": "0ae80f7f",
   "metadata": {},
   "outputs": [
    {
     "data": {
      "text/plain": [
       "(52442, 7)"
      ]
     },
     "execution_count": 8,
     "metadata": {},
     "output_type": "execute_result"
    }
   ],
   "source": [
    "zillow.shape\n",
    "#hit our target from the rubric"
   ]
  },
  {
   "cell_type": "code",
   "execution_count": 9,
   "id": "39116709",
   "metadata": {},
   "outputs": [
    {
     "data": {
      "text/plain": [
       "Index(['bedroomcnt', 'bathroomcnt', 'calculatedfinishedsquarefeet',\n",
       "       'taxvaluedollarcnt', 'yearbuilt', 'fips', 'transactiondate'],\n",
       "      dtype='object')"
      ]
     },
     "execution_count": 9,
     "metadata": {},
     "output_type": "execute_result"
    }
   ],
   "source": [
    "zillow.columns\n",
    "#lets explore and rename these soon\n",
    "\n"
   ]
  },
  {
   "cell_type": "code",
   "execution_count": 10,
   "id": "226267b0",
   "metadata": {},
   "outputs": [],
   "source": [
    "zillow = zillow.rename(columns = {'bedroomcnt':'bedrooms', \n",
    "                            'bathroomcnt':'bathrooms', \n",
    "                            'calculatedfinishedsquarefeet':'area',\n",
    "                            'taxvaluedollarcnt':'tax_value', \n",
    "                            'yearbuilt':'year_built',\n",
    "                            'transactiondate': 'transaction_date',\n",
    "                            'fips': 'county'})"
   ]
  },
  {
   "cell_type": "code",
   "execution_count": 11,
   "id": "c9a81bf2",
   "metadata": {},
   "outputs": [
    {
     "data": {
      "text/html": [
       "<div>\n",
       "<style scoped>\n",
       "    .dataframe tbody tr th:only-of-type {\n",
       "        vertical-align: middle;\n",
       "    }\n",
       "\n",
       "    .dataframe tbody tr th {\n",
       "        vertical-align: top;\n",
       "    }\n",
       "\n",
       "    .dataframe thead th {\n",
       "        text-align: right;\n",
       "    }\n",
       "</style>\n",
       "<table border=\"1\" class=\"dataframe\">\n",
       "  <thead>\n",
       "    <tr style=\"text-align: right;\">\n",
       "      <th></th>\n",
       "      <th>bedrooms</th>\n",
       "      <th>bathrooms</th>\n",
       "      <th>area</th>\n",
       "      <th>tax_value</th>\n",
       "      <th>year_built</th>\n",
       "      <th>county</th>\n",
       "      <th>transaction_date</th>\n",
       "    </tr>\n",
       "  </thead>\n",
       "  <tbody>\n",
       "    <tr>\n",
       "      <th>0</th>\n",
       "      <td>4.0</td>\n",
       "      <td>3.5</td>\n",
       "      <td>3100.0</td>\n",
       "      <td>1023282.0</td>\n",
       "      <td>1998.0</td>\n",
       "      <td>6059.0</td>\n",
       "      <td>2017-01-01</td>\n",
       "    </tr>\n",
       "    <tr>\n",
       "      <th>1</th>\n",
       "      <td>2.0</td>\n",
       "      <td>1.0</td>\n",
       "      <td>1465.0</td>\n",
       "      <td>464000.0</td>\n",
       "      <td>1967.0</td>\n",
       "      <td>6111.0</td>\n",
       "      <td>2017-01-01</td>\n",
       "    </tr>\n",
       "    <tr>\n",
       "      <th>2</th>\n",
       "      <td>3.0</td>\n",
       "      <td>2.0</td>\n",
       "      <td>1243.0</td>\n",
       "      <td>564778.0</td>\n",
       "      <td>1962.0</td>\n",
       "      <td>6059.0</td>\n",
       "      <td>2017-01-01</td>\n",
       "    </tr>\n",
       "    <tr>\n",
       "      <th>3</th>\n",
       "      <td>4.0</td>\n",
       "      <td>3.0</td>\n",
       "      <td>2376.0</td>\n",
       "      <td>145143.0</td>\n",
       "      <td>1970.0</td>\n",
       "      <td>6037.0</td>\n",
       "      <td>2017-01-01</td>\n",
       "    </tr>\n",
       "    <tr>\n",
       "      <th>4</th>\n",
       "      <td>4.0</td>\n",
       "      <td>3.0</td>\n",
       "      <td>2962.0</td>\n",
       "      <td>773303.0</td>\n",
       "      <td>1950.0</td>\n",
       "      <td>6037.0</td>\n",
       "      <td>2017-01-01</td>\n",
       "    </tr>\n",
       "  </tbody>\n",
       "</table>\n",
       "</div>"
      ],
      "text/plain": [
       "   bedrooms  bathrooms    area  tax_value  year_built  county transaction_date\n",
       "0       4.0        3.5  3100.0  1023282.0      1998.0  6059.0       2017-01-01\n",
       "1       2.0        1.0  1465.0   464000.0      1967.0  6111.0       2017-01-01\n",
       "2       3.0        2.0  1243.0   564778.0      1962.0  6059.0       2017-01-01\n",
       "3       4.0        3.0  2376.0   145143.0      1970.0  6037.0       2017-01-01\n",
       "4       4.0        3.0  2962.0   773303.0      1950.0  6037.0       2017-01-01"
      ]
     },
     "execution_count": 11,
     "metadata": {},
     "output_type": "execute_result"
    }
   ],
   "source": [
    "zillow.head()"
   ]
  },
  {
   "cell_type": "code",
   "execution_count": 12,
   "id": "cdfcaba4",
   "metadata": {},
   "outputs": [],
   "source": [
    "# zillow.drop(columns = 'taxamount', inplace = True)\n",
    "# zillow.head()"
   ]
  },
  {
   "cell_type": "code",
   "execution_count": null,
   "id": "c37711d7",
   "metadata": {},
   "outputs": [],
   "source": []
  },
  {
   "cell_type": "code",
   "execution_count": null,
   "id": "26c25184",
   "metadata": {},
   "outputs": [],
   "source": []
  },
  {
   "cell_type": "code",
   "execution_count": 13,
   "id": "832a4d16",
   "metadata": {},
   "outputs": [],
   "source": [
    "def remove_outliers(df, k, col_list):\n",
    "    ''' remove outliers from a list of columns in a dataframe \n",
    "        and return that dataframe\n",
    "    '''\n",
    "    \n",
    "    for col in col_list:\n",
    "\n",
    "        q1, q3 = df[col].quantile([.25, .75])  # get quartiles\n",
    "        \n",
    "        iqr = q3 - q1   # calculate interquartile range\n",
    "        \n",
    "        upper_bound = q3 + k * iqr   # get upper bound\n",
    "        lower_bound = q1 - k * iqr   # get lower bound\n",
    "\n",
    "        # return dataframe without outliers\n",
    "        \n",
    "        df = df[(df[col] > lower_bound) & (df[col] < upper_bound)]\n",
    "        \n",
    "    return df"
   ]
  },
  {
   "cell_type": "code",
   "execution_count": 14,
   "id": "1c393d7b",
   "metadata": {},
   "outputs": [
    {
     "data": {
      "text/plain": [
       "bedrooms              0\n",
       "bathrooms             0\n",
       "area                 82\n",
       "tax_value             1\n",
       "year_built          116\n",
       "county                0\n",
       "transaction_date      0\n",
       "dtype: int64"
      ]
     },
     "execution_count": 14,
     "metadata": {},
     "output_type": "execute_result"
    }
   ],
   "source": [
    "#will handle later\n",
    "\n",
    "zillow.isnull().sum()"
   ]
  },
  {
   "cell_type": "code",
   "execution_count": 48,
   "id": "c3925834",
   "metadata": {},
   "outputs": [
    {
     "data": {
      "text/plain": [
       "LA         33911\n",
       "Orange     14136\n",
       "Ventura     4395\n",
       "Name: county, dtype: int64"
      ]
     },
     "execution_count": 48,
     "metadata": {},
     "output_type": "execute_result"
    }
   ],
   "source": [
    "zillow.county.value_counts()"
   ]
  },
  {
   "cell_type": "code",
   "execution_count": 49,
   "id": "bb447e3b",
   "metadata": {},
   "outputs": [
    {
     "data": {
      "text/plain": [
       "52442"
      ]
     },
     "execution_count": 49,
     "metadata": {},
     "output_type": "execute_result"
    }
   ],
   "source": [
    "33911 + 14136 + 4395\n"
   ]
  },
  {
   "cell_type": "code",
   "execution_count": 16,
   "id": "6f058503",
   "metadata": {},
   "outputs": [],
   "source": [
    "def split_data(df):\n",
    "    '''\n",
    "    Takes in a dataframe and returns train, validate, and test subset dataframes. \n",
    "    '''\n",
    "    train, test = train_test_split(df, test_size = .2, random_state = 222)\n",
    "    train, validate = train_test_split(train, test_size = .3, random_state = 222)\n",
    "    return train, validate, test\n"
   ]
  },
  {
   "cell_type": "code",
   "execution_count": 17,
   "id": "21773f6b",
   "metadata": {},
   "outputs": [],
   "source": [
    "def scale_zillow(train, validate, test):\n",
    "    '''\n",
    "    Takes train, validate, test datasets as an argument and returns the dataframes with \n",
    "    tax_vale, and area scaled columns.\n",
    "    '''\n",
    "    ## MinMaxScaler\n",
    "    scaler = sklearn.preprocessing.MinMaxScaler()\n",
    "\n",
    "    # Fit scaler to data\n",
    "    scaler.fit(train[['tax_vale', 'area']])\n",
    "\n",
    "    # Execute scaling\n",
    "    train[['area', 'tax_value_scaled']] = scaler.transform(train[['area', 'tax_value']])\n",
    "    validate[['area_scaled', 'tax_value_scaled']] = scaler.transform(validate[['area', 'tax_value']])\n",
    "    test[['area_scaled', 'tax_value_scaled']] = scaler.transform(test[['area', 'tax_value']])\n",
    "    return train, validate, test\n"
   ]
  },
  {
   "cell_type": "code",
   "execution_count": 18,
   "id": "12264e74",
   "metadata": {},
   "outputs": [
    {
     "data": {
      "text/plain": [
       "Index(['bedrooms', 'bathrooms', 'area', 'tax_value', 'year_built', 'county',\n",
       "       'transaction_date'],\n",
       "      dtype='object')"
      ]
     },
     "execution_count": 18,
     "metadata": {},
     "output_type": "execute_result"
    }
   ],
   "source": [
    "zillow.columns"
   ]
  },
  {
   "cell_type": "code",
   "execution_count": 19,
   "id": "e96e2517",
   "metadata": {},
   "outputs": [],
   "source": [
    "zillow['county'] = zillow['county'].replace({6037.0:'LA',6059.0: 'Orange',6111.0:'Ventura'})\n"
   ]
  },
  {
   "cell_type": "code",
   "execution_count": 20,
   "id": "a8d14e06",
   "metadata": {},
   "outputs": [
    {
     "data": {
      "text/html": [
       "<div>\n",
       "<style scoped>\n",
       "    .dataframe tbody tr th:only-of-type {\n",
       "        vertical-align: middle;\n",
       "    }\n",
       "\n",
       "    .dataframe tbody tr th {\n",
       "        vertical-align: top;\n",
       "    }\n",
       "\n",
       "    .dataframe thead th {\n",
       "        text-align: right;\n",
       "    }\n",
       "</style>\n",
       "<table border=\"1\" class=\"dataframe\">\n",
       "  <thead>\n",
       "    <tr style=\"text-align: right;\">\n",
       "      <th></th>\n",
       "      <th>bedrooms</th>\n",
       "      <th>bathrooms</th>\n",
       "      <th>area</th>\n",
       "      <th>tax_value</th>\n",
       "      <th>year_built</th>\n",
       "      <th>county</th>\n",
       "      <th>transaction_date</th>\n",
       "    </tr>\n",
       "  </thead>\n",
       "  <tbody>\n",
       "    <tr>\n",
       "      <th>0</th>\n",
       "      <td>4.0</td>\n",
       "      <td>3.5</td>\n",
       "      <td>3100.0</td>\n",
       "      <td>1023282.0</td>\n",
       "      <td>1998.0</td>\n",
       "      <td>Orange</td>\n",
       "      <td>2017-01-01</td>\n",
       "    </tr>\n",
       "    <tr>\n",
       "      <th>1</th>\n",
       "      <td>2.0</td>\n",
       "      <td>1.0</td>\n",
       "      <td>1465.0</td>\n",
       "      <td>464000.0</td>\n",
       "      <td>1967.0</td>\n",
       "      <td>Ventura</td>\n",
       "      <td>2017-01-01</td>\n",
       "    </tr>\n",
       "    <tr>\n",
       "      <th>2</th>\n",
       "      <td>3.0</td>\n",
       "      <td>2.0</td>\n",
       "      <td>1243.0</td>\n",
       "      <td>564778.0</td>\n",
       "      <td>1962.0</td>\n",
       "      <td>Orange</td>\n",
       "      <td>2017-01-01</td>\n",
       "    </tr>\n",
       "    <tr>\n",
       "      <th>3</th>\n",
       "      <td>4.0</td>\n",
       "      <td>3.0</td>\n",
       "      <td>2376.0</td>\n",
       "      <td>145143.0</td>\n",
       "      <td>1970.0</td>\n",
       "      <td>LA</td>\n",
       "      <td>2017-01-01</td>\n",
       "    </tr>\n",
       "    <tr>\n",
       "      <th>4</th>\n",
       "      <td>4.0</td>\n",
       "      <td>3.0</td>\n",
       "      <td>2962.0</td>\n",
       "      <td>773303.0</td>\n",
       "      <td>1950.0</td>\n",
       "      <td>LA</td>\n",
       "      <td>2017-01-01</td>\n",
       "    </tr>\n",
       "  </tbody>\n",
       "</table>\n",
       "</div>"
      ],
      "text/plain": [
       "   bedrooms  bathrooms    area  tax_value  year_built   county  \\\n",
       "0       4.0        3.5  3100.0  1023282.0      1998.0   Orange   \n",
       "1       2.0        1.0  1465.0   464000.0      1967.0  Ventura   \n",
       "2       3.0        2.0  1243.0   564778.0      1962.0   Orange   \n",
       "3       4.0        3.0  2376.0   145143.0      1970.0       LA   \n",
       "4       4.0        3.0  2962.0   773303.0      1950.0       LA   \n",
       "\n",
       "  transaction_date  \n",
       "0       2017-01-01  \n",
       "1       2017-01-01  \n",
       "2       2017-01-01  \n",
       "3       2017-01-01  \n",
       "4       2017-01-01  "
      ]
     },
     "execution_count": 20,
     "metadata": {},
     "output_type": "execute_result"
    }
   ],
   "source": [
    "zillow.head()"
   ]
  },
  {
   "cell_type": "code",
   "execution_count": 21,
   "id": "a6370dc2",
   "metadata": {},
   "outputs": [
    {
     "data": {
      "text/plain": [
       "0         Orange\n",
       "1        Ventura\n",
       "2         Orange\n",
       "3             LA\n",
       "4             LA\n",
       "          ...   \n",
       "52437         LA\n",
       "52438    Ventura\n",
       "52439         LA\n",
       "52440         LA\n",
       "52441         LA\n",
       "Name: county, Length: 52442, dtype: object"
      ]
     },
     "execution_count": 21,
     "metadata": {},
     "output_type": "execute_result"
    }
   ],
   "source": [
    "zillow['county']"
   ]
  },
  {
   "cell_type": "code",
   "execution_count": null,
   "id": "f8f6bf5f",
   "metadata": {},
   "outputs": [],
   "source": [
    "# Create county mean column\n",
    "\n",
    "## Still need to add to function"
   ]
  },
  {
   "cell_type": "code",
   "execution_count": 32,
   "id": "d8d6b26c",
   "metadata": {},
   "outputs": [],
   "source": [
    "LA = zillow[zillow.county=='LA']\n",
    "orange = zillow[zillow.county=='Orange']\n",
    "ventura = zillow[zillow.county=='Ventura']\n",
    "\n",
    "la_avg = round(LA.tax_value.mean(),2)\n",
    "orange_avg = round(orange.tax_value.mean(),2)\n",
    "ventura_avg = round(ventura.tax_value.mean(),2)"
   ]
  },
  {
   "cell_type": "code",
   "execution_count": 33,
   "id": "8255bb97",
   "metadata": {},
   "outputs": [],
   "source": [
    "def assign_county_avg(row):\n",
    "    if row['county']=='LA':\n",
    "        return la_avg\n",
    "    if row['county']=='Orange':\n",
    "        return orange_avg\n",
    "    if row['county']=='Ventura':\n",
    "        return ventura_avg"
   ]
  },
  {
   "cell_type": "code",
   "execution_count": 34,
   "id": "6bf7b144",
   "metadata": {},
   "outputs": [],
   "source": [
    "zillow['county_tax_avg'] = zillow.apply(lambda row: assign_county_avg(row), axis = 1)"
   ]
  },
  {
   "cell_type": "code",
   "execution_count": 36,
   "id": "81c70754",
   "metadata": {},
   "outputs": [
    {
     "data": {
      "text/html": [
       "<div>\n",
       "<style scoped>\n",
       "    .dataframe tbody tr th:only-of-type {\n",
       "        vertical-align: middle;\n",
       "    }\n",
       "\n",
       "    .dataframe tbody tr th {\n",
       "        vertical-align: top;\n",
       "    }\n",
       "\n",
       "    .dataframe thead th {\n",
       "        text-align: right;\n",
       "    }\n",
       "</style>\n",
       "<table border=\"1\" class=\"dataframe\">\n",
       "  <thead>\n",
       "    <tr style=\"text-align: right;\">\n",
       "      <th></th>\n",
       "      <th>bedrooms</th>\n",
       "      <th>bathrooms</th>\n",
       "      <th>area</th>\n",
       "      <th>tax_value</th>\n",
       "      <th>year_built</th>\n",
       "      <th>county</th>\n",
       "      <th>transaction_date</th>\n",
       "      <th>county_tax_avg</th>\n",
       "    </tr>\n",
       "  </thead>\n",
       "  <tbody>\n",
       "    <tr>\n",
       "      <th>0</th>\n",
       "      <td>4.0</td>\n",
       "      <td>3.5</td>\n",
       "      <td>3100.0</td>\n",
       "      <td>1023282.0</td>\n",
       "      <td>1998.0</td>\n",
       "      <td>Orange</td>\n",
       "      <td>2017-01-01</td>\n",
       "      <td>604685.17</td>\n",
       "    </tr>\n",
       "    <tr>\n",
       "      <th>1</th>\n",
       "      <td>2.0</td>\n",
       "      <td>1.0</td>\n",
       "      <td>1465.0</td>\n",
       "      <td>464000.0</td>\n",
       "      <td>1967.0</td>\n",
       "      <td>Ventura</td>\n",
       "      <td>2017-01-01</td>\n",
       "      <td>515671.00</td>\n",
       "    </tr>\n",
       "    <tr>\n",
       "      <th>2</th>\n",
       "      <td>3.0</td>\n",
       "      <td>2.0</td>\n",
       "      <td>1243.0</td>\n",
       "      <td>564778.0</td>\n",
       "      <td>1962.0</td>\n",
       "      <td>Orange</td>\n",
       "      <td>2017-01-01</td>\n",
       "      <td>604685.17</td>\n",
       "    </tr>\n",
       "    <tr>\n",
       "      <th>3</th>\n",
       "      <td>4.0</td>\n",
       "      <td>3.0</td>\n",
       "      <td>2376.0</td>\n",
       "      <td>145143.0</td>\n",
       "      <td>1970.0</td>\n",
       "      <td>LA</td>\n",
       "      <td>2017-01-01</td>\n",
       "      <td>500236.14</td>\n",
       "    </tr>\n",
       "    <tr>\n",
       "      <th>4</th>\n",
       "      <td>4.0</td>\n",
       "      <td>3.0</td>\n",
       "      <td>2962.0</td>\n",
       "      <td>773303.0</td>\n",
       "      <td>1950.0</td>\n",
       "      <td>LA</td>\n",
       "      <td>2017-01-01</td>\n",
       "      <td>500236.14</td>\n",
       "    </tr>\n",
       "  </tbody>\n",
       "</table>\n",
       "</div>"
      ],
      "text/plain": [
       "   bedrooms  bathrooms    area  tax_value  year_built   county  \\\n",
       "0       4.0        3.5  3100.0  1023282.0      1998.0   Orange   \n",
       "1       2.0        1.0  1465.0   464000.0      1967.0  Ventura   \n",
       "2       3.0        2.0  1243.0   564778.0      1962.0   Orange   \n",
       "3       4.0        3.0  2376.0   145143.0      1970.0       LA   \n",
       "4       4.0        3.0  2962.0   773303.0      1950.0       LA   \n",
       "\n",
       "  transaction_date  county_tax_avg  \n",
       "0       2017-01-01       604685.17  \n",
       "1       2017-01-01       515671.00  \n",
       "2       2017-01-01       604685.17  \n",
       "3       2017-01-01       500236.14  \n",
       "4       2017-01-01       500236.14  "
      ]
     },
     "execution_count": 36,
     "metadata": {},
     "output_type": "execute_result"
    }
   ],
   "source": [
    "zillow.head()"
   ]
  },
  {
   "cell_type": "code",
   "execution_count": 39,
   "id": "45bbcabf",
   "metadata": {},
   "outputs": [],
   "source": [
    "# Create baseline - needed for way later down the road\n",
    "#zillow - train\n",
    "\n",
    "\n",
    "# baseline = train.tax_value.median()\n",
    "# train['baseline'] = baseline\n",
    "# validate['baseline'] = baseline\n",
    "# test['baseline'] = baseline"
   ]
  },
  {
   "cell_type": "code",
   "execution_count": null,
   "id": "6b4bc13b",
   "metadata": {},
   "outputs": [],
   "source": []
  },
  {
   "cell_type": "code",
   "execution_count": 41,
   "id": "701691fe",
   "metadata": {},
   "outputs": [],
   "source": [
    "# year built to age\n",
    "\n",
    "from datetime import date\n",
    "zillow['age'] = date.today().year-zillow['year_built']"
   ]
  },
  {
   "cell_type": "code",
   "execution_count": 43,
   "id": "e0113aae",
   "metadata": {},
   "outputs": [
    {
     "data": {
      "text/html": [
       "<div>\n",
       "<style scoped>\n",
       "    .dataframe tbody tr th:only-of-type {\n",
       "        vertical-align: middle;\n",
       "    }\n",
       "\n",
       "    .dataframe tbody tr th {\n",
       "        vertical-align: top;\n",
       "    }\n",
       "\n",
       "    .dataframe thead th {\n",
       "        text-align: right;\n",
       "    }\n",
       "</style>\n",
       "<table border=\"1\" class=\"dataframe\">\n",
       "  <thead>\n",
       "    <tr style=\"text-align: right;\">\n",
       "      <th></th>\n",
       "      <th>bedrooms</th>\n",
       "      <th>bathrooms</th>\n",
       "      <th>area</th>\n",
       "      <th>tax_value</th>\n",
       "      <th>year_built</th>\n",
       "      <th>county</th>\n",
       "      <th>transaction_date</th>\n",
       "      <th>county_tax_avg</th>\n",
       "      <th>age</th>\n",
       "    </tr>\n",
       "  </thead>\n",
       "  <tbody>\n",
       "    <tr>\n",
       "      <th>0</th>\n",
       "      <td>4.0</td>\n",
       "      <td>3.5</td>\n",
       "      <td>3100.0</td>\n",
       "      <td>1023282.0</td>\n",
       "      <td>1998.0</td>\n",
       "      <td>Orange</td>\n",
       "      <td>2017-01-01</td>\n",
       "      <td>604685.17</td>\n",
       "      <td>23.0</td>\n",
       "    </tr>\n",
       "    <tr>\n",
       "      <th>1</th>\n",
       "      <td>2.0</td>\n",
       "      <td>1.0</td>\n",
       "      <td>1465.0</td>\n",
       "      <td>464000.0</td>\n",
       "      <td>1967.0</td>\n",
       "      <td>Ventura</td>\n",
       "      <td>2017-01-01</td>\n",
       "      <td>515671.00</td>\n",
       "      <td>54.0</td>\n",
       "    </tr>\n",
       "    <tr>\n",
       "      <th>2</th>\n",
       "      <td>3.0</td>\n",
       "      <td>2.0</td>\n",
       "      <td>1243.0</td>\n",
       "      <td>564778.0</td>\n",
       "      <td>1962.0</td>\n",
       "      <td>Orange</td>\n",
       "      <td>2017-01-01</td>\n",
       "      <td>604685.17</td>\n",
       "      <td>59.0</td>\n",
       "    </tr>\n",
       "    <tr>\n",
       "      <th>3</th>\n",
       "      <td>4.0</td>\n",
       "      <td>3.0</td>\n",
       "      <td>2376.0</td>\n",
       "      <td>145143.0</td>\n",
       "      <td>1970.0</td>\n",
       "      <td>LA</td>\n",
       "      <td>2017-01-01</td>\n",
       "      <td>500236.14</td>\n",
       "      <td>51.0</td>\n",
       "    </tr>\n",
       "    <tr>\n",
       "      <th>4</th>\n",
       "      <td>4.0</td>\n",
       "      <td>3.0</td>\n",
       "      <td>2962.0</td>\n",
       "      <td>773303.0</td>\n",
       "      <td>1950.0</td>\n",
       "      <td>LA</td>\n",
       "      <td>2017-01-01</td>\n",
       "      <td>500236.14</td>\n",
       "      <td>71.0</td>\n",
       "    </tr>\n",
       "  </tbody>\n",
       "</table>\n",
       "</div>"
      ],
      "text/plain": [
       "   bedrooms  bathrooms    area  tax_value  year_built   county  \\\n",
       "0       4.0        3.5  3100.0  1023282.0      1998.0   Orange   \n",
       "1       2.0        1.0  1465.0   464000.0      1967.0  Ventura   \n",
       "2       3.0        2.0  1243.0   564778.0      1962.0   Orange   \n",
       "3       4.0        3.0  2376.0   145143.0      1970.0       LA   \n",
       "4       4.0        3.0  2962.0   773303.0      1950.0       LA   \n",
       "\n",
       "  transaction_date  county_tax_avg   age  \n",
       "0       2017-01-01       604685.17  23.0  \n",
       "1       2017-01-01       515671.00  54.0  \n",
       "2       2017-01-01       604685.17  59.0  \n",
       "3       2017-01-01       500236.14  51.0  \n",
       "4       2017-01-01       500236.14  71.0  "
      ]
     },
     "execution_count": 43,
     "metadata": {},
     "output_type": "execute_result"
    }
   ],
   "source": [
    "zillow.head()\n",
    "\n",
    "#will need to change to int and drop year_built"
   ]
  },
  {
   "cell_type": "code",
   "execution_count": 45,
   "id": "9ebf67d0",
   "metadata": {},
   "outputs": [],
   "source": [
    "# One hot county\n",
    "\n",
    "dummy_df = pd.get_dummies(zillow[['county']], drop_first = True)\n",
    "zillow = pd.concat([zillow, dummy_df], axis = 1)"
   ]
  },
  {
   "cell_type": "code",
   "execution_count": 47,
   "id": "ee0e960a",
   "metadata": {},
   "outputs": [
    {
     "data": {
      "text/html": [
       "<div>\n",
       "<style scoped>\n",
       "    .dataframe tbody tr th:only-of-type {\n",
       "        vertical-align: middle;\n",
       "    }\n",
       "\n",
       "    .dataframe tbody tr th {\n",
       "        vertical-align: top;\n",
       "    }\n",
       "\n",
       "    .dataframe thead th {\n",
       "        text-align: right;\n",
       "    }\n",
       "</style>\n",
       "<table border=\"1\" class=\"dataframe\">\n",
       "  <thead>\n",
       "    <tr style=\"text-align: right;\">\n",
       "      <th></th>\n",
       "      <th>bedrooms</th>\n",
       "      <th>bathrooms</th>\n",
       "      <th>area</th>\n",
       "      <th>tax_value</th>\n",
       "      <th>year_built</th>\n",
       "      <th>county</th>\n",
       "      <th>transaction_date</th>\n",
       "      <th>county_tax_avg</th>\n",
       "      <th>age</th>\n",
       "      <th>county_Orange</th>\n",
       "      <th>county_Ventura</th>\n",
       "      <th>county_Orange</th>\n",
       "      <th>county_Ventura</th>\n",
       "    </tr>\n",
       "  </thead>\n",
       "  <tbody>\n",
       "    <tr>\n",
       "      <th>0</th>\n",
       "      <td>4.0</td>\n",
       "      <td>3.5</td>\n",
       "      <td>3100.0</td>\n",
       "      <td>1023282.0</td>\n",
       "      <td>1998.0</td>\n",
       "      <td>Orange</td>\n",
       "      <td>2017-01-01</td>\n",
       "      <td>604685.17</td>\n",
       "      <td>23.0</td>\n",
       "      <td>1</td>\n",
       "      <td>0</td>\n",
       "      <td>1</td>\n",
       "      <td>0</td>\n",
       "    </tr>\n",
       "    <tr>\n",
       "      <th>1</th>\n",
       "      <td>2.0</td>\n",
       "      <td>1.0</td>\n",
       "      <td>1465.0</td>\n",
       "      <td>464000.0</td>\n",
       "      <td>1967.0</td>\n",
       "      <td>Ventura</td>\n",
       "      <td>2017-01-01</td>\n",
       "      <td>515671.00</td>\n",
       "      <td>54.0</td>\n",
       "      <td>0</td>\n",
       "      <td>1</td>\n",
       "      <td>0</td>\n",
       "      <td>1</td>\n",
       "    </tr>\n",
       "    <tr>\n",
       "      <th>2</th>\n",
       "      <td>3.0</td>\n",
       "      <td>2.0</td>\n",
       "      <td>1243.0</td>\n",
       "      <td>564778.0</td>\n",
       "      <td>1962.0</td>\n",
       "      <td>Orange</td>\n",
       "      <td>2017-01-01</td>\n",
       "      <td>604685.17</td>\n",
       "      <td>59.0</td>\n",
       "      <td>1</td>\n",
       "      <td>0</td>\n",
       "      <td>1</td>\n",
       "      <td>0</td>\n",
       "    </tr>\n",
       "    <tr>\n",
       "      <th>3</th>\n",
       "      <td>4.0</td>\n",
       "      <td>3.0</td>\n",
       "      <td>2376.0</td>\n",
       "      <td>145143.0</td>\n",
       "      <td>1970.0</td>\n",
       "      <td>LA</td>\n",
       "      <td>2017-01-01</td>\n",
       "      <td>500236.14</td>\n",
       "      <td>51.0</td>\n",
       "      <td>0</td>\n",
       "      <td>0</td>\n",
       "      <td>0</td>\n",
       "      <td>0</td>\n",
       "    </tr>\n",
       "    <tr>\n",
       "      <th>4</th>\n",
       "      <td>4.0</td>\n",
       "      <td>3.0</td>\n",
       "      <td>2962.0</td>\n",
       "      <td>773303.0</td>\n",
       "      <td>1950.0</td>\n",
       "      <td>LA</td>\n",
       "      <td>2017-01-01</td>\n",
       "      <td>500236.14</td>\n",
       "      <td>71.0</td>\n",
       "      <td>0</td>\n",
       "      <td>0</td>\n",
       "      <td>0</td>\n",
       "      <td>0</td>\n",
       "    </tr>\n",
       "  </tbody>\n",
       "</table>\n",
       "</div>"
      ],
      "text/plain": [
       "   bedrooms  bathrooms    area  tax_value  year_built   county  \\\n",
       "0       4.0        3.5  3100.0  1023282.0      1998.0   Orange   \n",
       "1       2.0        1.0  1465.0   464000.0      1967.0  Ventura   \n",
       "2       3.0        2.0  1243.0   564778.0      1962.0   Orange   \n",
       "3       4.0        3.0  2376.0   145143.0      1970.0       LA   \n",
       "4       4.0        3.0  2962.0   773303.0      1950.0       LA   \n",
       "\n",
       "  transaction_date  county_tax_avg   age  county_Orange  county_Ventura  \\\n",
       "0       2017-01-01       604685.17  23.0              1               0   \n",
       "1       2017-01-01       515671.00  54.0              0               1   \n",
       "2       2017-01-01       604685.17  59.0              1               0   \n",
       "3       2017-01-01       500236.14  51.0              0               0   \n",
       "4       2017-01-01       500236.14  71.0              0               0   \n",
       "\n",
       "   county_Orange  county_Ventura  \n",
       "0              1               0  \n",
       "1              0               1  \n",
       "2              1               0  \n",
       "3              0               0  \n",
       "4              0               0  "
      ]
     },
     "execution_count": 47,
     "metadata": {},
     "output_type": "execute_result"
    }
   ],
   "source": [
    "zillow.head()"
   ]
  },
  {
   "cell_type": "code",
   "execution_count": 51,
   "id": "28d5e15c",
   "metadata": {},
   "outputs": [],
   "source": [
    "# time to update new values and push into wrangle."
   ]
  },
  {
   "cell_type": "code",
   "execution_count": null,
   "id": "3daff230",
   "metadata": {},
   "outputs": [],
   "source": []
  },
  {
   "cell_type": "code",
   "execution_count": null,
   "id": "a179402f",
   "metadata": {},
   "outputs": [],
   "source": [
    "age_graph = sns.histplot(data=train, x=\"age\", discrete = True)\n",
    "plt.figure(figsize=(16, 6))\n",
    "age_graph.set(Title = \"Property Age Distribution\", xlabel = \"Age of the property\", ylabel = \"Number of Properties\");"
   ]
  },
  {
   "cell_type": "code",
   "execution_count": 50,
   "id": "3ab42d42",
   "metadata": {},
   "outputs": [],
   "source": [
    "def regression_errors(y, y_hat):\n",
    "    #calculate residuals\n",
    "    residuals = y - y_hat\n",
    "    \n",
    "    #residuals squared\n",
    "    residuals_squared = residuals ** 2\n",
    "    \n",
    "    #sum of squared errors\n",
    "    SSE = residuals_squared.sum()\n",
    "    \n",
    "    #explained sum of squares\n",
    "    ESS = sum((y_hat - y.mean()) ** 2)\n",
    "    \n",
    "    #total sum of squares\n",
    "    TSS = ESS + SSE\n",
    "    \n",
    "    #mean of squared errors\n",
    "    MSE = SSE / len(y)\n",
    "    \n",
    "    #root of mean of squared errors\n",
    "    RMSE = MSE ** (1/2)\n",
    "    \n",
    "    #gimme gimme\n",
    "    print('Model Metrics')\n",
    "    print('=============')\n",
    "    return pd.Series({\n",
    "        'SSE': SSE,\n",
    "        'ESS': ESS,\n",
    "        'TSS': TSS,\n",
    "        'MSE': MSE,\n",
    "        'RMSE': RMSE\n",
    "    })"
   ]
  },
  {
   "cell_type": "code",
   "execution_count": null,
   "id": "91c8dbe3",
   "metadata": {},
   "outputs": [],
   "source": []
  },
  {
   "cell_type": "code",
   "execution_count": null,
   "id": "e1e0fd18",
   "metadata": {},
   "outputs": [],
   "source": [
    "print('Training/In-Sample: \\n')\n",
    "lars = LassoLars(alpha=1.0)\n",
    "lars.fit(X_train, y_train['tax_value'])\n",
    "train['lars_yhat'] = lars.predict(X_train)\n",
    "model.regression_errors(y_train['tax_value'], train['lars_yhat'])"
   ]
  }
 ],
 "metadata": {
  "kernelspec": {
   "display_name": "Python 3",
   "language": "python",
   "name": "python3"
  },
  "language_info": {
   "codemirror_mode": {
    "name": "ipython",
    "version": 3
   },
   "file_extension": ".py",
   "mimetype": "text/x-python",
   "name": "python",
   "nbconvert_exporter": "python",
   "pygments_lexer": "ipython3",
   "version": "3.8.8"
  }
 },
 "nbformat": 4,
 "nbformat_minor": 5
}

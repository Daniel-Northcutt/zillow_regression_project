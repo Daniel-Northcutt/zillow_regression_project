{
 "cells": [
  {
   "cell_type": "markdown",
   "id": "5d51425c",
   "metadata": {},
   "source": [
    "Stay focused and concentrated, follow the rubric, explore/fit/model the data, practice your presentation, and you will ace this.\n",
    "Despite, losing most of Thurs & Fri due to circumstances, you got this!"
   ]
  },
  {
   "cell_type": "code",
   "execution_count": 1,
   "id": "ff68267c",
   "metadata": {},
   "outputs": [],
   "source": [
    "import numpy as np\n",
    "import pandas as pd\n",
    "import matplotlib.pyplot as plt\n",
    "import seaborn as sns\n",
    "\n",
    "import os\n",
    "import warnings\n",
    "warnings.filterwarnings('ignore')\n",
    "\n",
    "import sklearn.preprocessing\n",
    "from sklearn.model_selection import train_test_split\n",
    "from sklearn.linear_model import LinearRegression"
   ]
  },
  {
   "cell_type": "markdown",
   "id": "79498b80",
   "metadata": {},
   "source": [
    "### function station for scratch\n",
    "### wrangle.py for functions implemented"
   ]
  },
  {
   "cell_type": "code",
   "execution_count": 2,
   "id": "e363c278",
   "metadata": {},
   "outputs": [],
   "source": [
    "import wrangle\n"
   ]
  },
  {
   "cell_type": "code",
   "execution_count": 3,
   "id": "c2a03012",
   "metadata": {
    "scrolled": true
   },
   "outputs": [],
   "source": [
    "train, validate, test = wrangle.wrangle_zillow()\n"
   ]
  },
  {
   "cell_type": "code",
   "execution_count": 4,
   "id": "ee7a3c69",
   "metadata": {},
   "outputs": [
    {
     "data": {
      "text/html": [
       "<div>\n",
       "<style scoped>\n",
       "    .dataframe tbody tr th:only-of-type {\n",
       "        vertical-align: middle;\n",
       "    }\n",
       "\n",
       "    .dataframe tbody tr th {\n",
       "        vertical-align: top;\n",
       "    }\n",
       "\n",
       "    .dataframe thead th {\n",
       "        text-align: right;\n",
       "    }\n",
       "</style>\n",
       "<table border=\"1\" class=\"dataframe\">\n",
       "  <thead>\n",
       "    <tr style=\"text-align: right;\">\n",
       "      <th></th>\n",
       "      <th>bedroom_count</th>\n",
       "      <th>bathroom_count</th>\n",
       "      <th>square_feet</th>\n",
       "      <th>tax_value</th>\n",
       "      <th>county</th>\n",
       "      <th>age</th>\n",
       "      <th>county_Orange</th>\n",
       "      <th>county_Ventura</th>\n",
       "      <th>county_tax_avg</th>\n",
       "      <th>baseline</th>\n",
       "      <th>square_feet_scaled</th>\n",
       "      <th>tax_value_scaled</th>\n",
       "    </tr>\n",
       "  </thead>\n",
       "  <tbody>\n",
       "    <tr>\n",
       "      <th>33416</th>\n",
       "      <td>2.0</td>\n",
       "      <td>1.0</td>\n",
       "      <td>957.0</td>\n",
       "      <td>512701.0</td>\n",
       "      <td>Orange</td>\n",
       "      <td>69.0</td>\n",
       "      <td>1</td>\n",
       "      <td>0</td>\n",
       "      <td>442218.98</td>\n",
       "      <td>335130.0</td>\n",
       "      <td>-0.002050</td>\n",
       "      <td>157.994141</td>\n",
       "    </tr>\n",
       "    <tr>\n",
       "      <th>10256</th>\n",
       "      <td>4.0</td>\n",
       "      <td>3.0</td>\n",
       "      <td>2290.0</td>\n",
       "      <td>317784.0</td>\n",
       "      <td>Orange</td>\n",
       "      <td>66.0</td>\n",
       "      <td>1</td>\n",
       "      <td>0</td>\n",
       "      <td>442218.98</td>\n",
       "      <td>335130.0</td>\n",
       "      <td>-0.000860</td>\n",
       "      <td>97.890225</td>\n",
       "    </tr>\n",
       "    <tr>\n",
       "      <th>9626</th>\n",
       "      <td>3.0</td>\n",
       "      <td>1.0</td>\n",
       "      <td>1063.0</td>\n",
       "      <td>428204.0</td>\n",
       "      <td>LA</td>\n",
       "      <td>69.0</td>\n",
       "      <td>0</td>\n",
       "      <td>0</td>\n",
       "      <td>338888.35</td>\n",
       "      <td>335130.0</td>\n",
       "      <td>-0.001956</td>\n",
       "      <td>131.938945</td>\n",
       "    </tr>\n",
       "    <tr>\n",
       "      <th>20264</th>\n",
       "      <td>3.0</td>\n",
       "      <td>3.0</td>\n",
       "      <td>1904.0</td>\n",
       "      <td>660068.0</td>\n",
       "      <td>LA</td>\n",
       "      <td>78.0</td>\n",
       "      <td>0</td>\n",
       "      <td>0</td>\n",
       "      <td>338888.35</td>\n",
       "      <td>335130.0</td>\n",
       "      <td>-0.001205</td>\n",
       "      <td>203.435708</td>\n",
       "    </tr>\n",
       "    <tr>\n",
       "      <th>41772</th>\n",
       "      <td>4.0</td>\n",
       "      <td>2.5</td>\n",
       "      <td>2271.0</td>\n",
       "      <td>604000.0</td>\n",
       "      <td>Ventura</td>\n",
       "      <td>21.0</td>\n",
       "      <td>0</td>\n",
       "      <td>1</td>\n",
       "      <td>427070.80</td>\n",
       "      <td>335130.0</td>\n",
       "      <td>-0.000877</td>\n",
       "      <td>186.146778</td>\n",
       "    </tr>\n",
       "  </tbody>\n",
       "</table>\n",
       "</div>"
      ],
      "text/plain": [
       "       bedroom_count  bathroom_count  square_feet  tax_value   county   age  \\\n",
       "33416            2.0             1.0        957.0   512701.0   Orange  69.0   \n",
       "10256            4.0             3.0       2290.0   317784.0   Orange  66.0   \n",
       "9626             3.0             1.0       1063.0   428204.0       LA  69.0   \n",
       "20264            3.0             3.0       1904.0   660068.0       LA  78.0   \n",
       "41772            4.0             2.5       2271.0   604000.0  Ventura  21.0   \n",
       "\n",
       "       county_Orange  county_Ventura  county_tax_avg  baseline  \\\n",
       "33416              1               0       442218.98  335130.0   \n",
       "10256              1               0       442218.98  335130.0   \n",
       "9626               0               0       338888.35  335130.0   \n",
       "20264              0               0       338888.35  335130.0   \n",
       "41772              0               1       427070.80  335130.0   \n",
       "\n",
       "       square_feet_scaled  tax_value_scaled  \n",
       "33416           -0.002050        157.994141  \n",
       "10256           -0.000860         97.890225  \n",
       "9626            -0.001956        131.938945  \n",
       "20264           -0.001205        203.435708  \n",
       "41772           -0.000877        186.146778  "
      ]
     },
     "execution_count": 4,
     "metadata": {},
     "output_type": "execute_result"
    }
   ],
   "source": [
    "train.head()\n"
   ]
  },
  {
   "cell_type": "code",
   "execution_count": 5,
   "id": "297e74ac",
   "metadata": {},
   "outputs": [],
   "source": [
    "train['bedroom_count'] = train['bedroom_count'].astype(int)\n",
    "#keep bathroom count as float bc you can have half bathrooms\n",
    "train['square_feet'] = train['square_feet'].astype(int)\n"
   ]
  },
  {
   "cell_type": "code",
   "execution_count": 6,
   "id": "e89ddb13",
   "metadata": {},
   "outputs": [
    {
     "name": "stdout",
     "output_type": "stream",
     "text": [
      "<class 'pandas.core.frame.DataFrame'>\n",
      "Int64Index: 25335 entries, 33416 to 49366\n",
      "Data columns (total 12 columns):\n",
      " #   Column              Non-Null Count  Dtype  \n",
      "---  ------              --------------  -----  \n",
      " 0   bedroom_count       25335 non-null  int64  \n",
      " 1   bathroom_count      25335 non-null  float64\n",
      " 2   square_feet         25335 non-null  int64  \n",
      " 3   tax_value           25335 non-null  float64\n",
      " 4   county              25335 non-null  object \n",
      " 5   age                 25335 non-null  float64\n",
      " 6   county_Orange       25335 non-null  uint8  \n",
      " 7   county_Ventura      25335 non-null  uint8  \n",
      " 8   county_tax_avg      25335 non-null  float64\n",
      " 9   baseline            25335 non-null  float64\n",
      " 10  square_feet_scaled  25335 non-null  float64\n",
      " 11  tax_value_scaled    25335 non-null  float64\n",
      "dtypes: float64(7), int64(2), object(1), uint8(2)\n",
      "memory usage: 2.2+ MB\n"
     ]
    }
   ],
   "source": [
    "train.info()"
   ]
  },
  {
   "cell_type": "code",
   "execution_count": null,
   "id": "1e3a4a1c",
   "metadata": {},
   "outputs": [],
   "source": []
  },
  {
   "cell_type": "code",
   "execution_count": 7,
   "id": "6609cbb6",
   "metadata": {},
   "outputs": [
    {
     "data": {
      "text/plain": [
       "45242"
      ]
     },
     "execution_count": 7,
     "metadata": {},
     "output_type": "execute_result"
    }
   ],
   "source": [
    "train.shape[0]+ validate.shape[0] + test.shape[0]\n",
    "\n",
    "\n",
    "# we lost a lot from the inital 52442"
   ]
  },
  {
   "cell_type": "markdown",
   "id": "847e3722",
   "metadata": {},
   "source": [
    "# EXPLORE"
   ]
  },
  {
   "cell_type": "code",
   "execution_count": 22,
   "id": "e8976dc4",
   "metadata": {},
   "outputs": [],
   "source": [
    "def get_distribution(df):\n",
    "    for i in df.columns:\n",
    "        plt.figure(figsize=(9,5))\n",
    "        sns.histplot(data = df, x=i)\n",
    "    plt.show()"
   ]
  },
  {
   "cell_type": "code",
   "execution_count": 24,
   "id": "b48cc6c0",
   "metadata": {},
   "outputs": [
    {
     "data": {
      "image/png": "[encoded data removed]",
      "text/plain": [
       "<Figure size 648x360 with 1 Axes>"
      ]
     },
     "metadata": {
      "needs_background": "light"
     },
     "output_type": "display_data"
    },
    {
     "data": {
      "image/png": "[encoded data removed]",
      "text/plain": [
       "<Figure size 648x360 with 1 Axes>"
      ]
     },
     "metadata": {
      "needs_background": "light"
     },
     "output_type": "display_data"
    },
    {
     "data": {
      "image/png": "[encoded data removed]",
      "text/plain": [
       "<Figure size 648x360 with 1 Axes>"
      ]
     },
     "metadata": {
      "needs_background": "light"
     },
     "output_type": "display_data"
    },
    {
     "data": {
      "image/png": "[encoded data removed]",
      "text/plain": [
       "<Figure size 648x360 with 1 Axes>"
      ]
     },
     "metadata": {
      "needs_background": "light"
     },
     "output_type": "display_data"
    },
    {
     "data": {
      "image/png": "[encoded data removed]",
      "text/plain": [
       "<Figure size 648x360 with 1 Axes>"
      ]
     },
     "metadata": {
      "needs_background": "light"
     },
     "output_type": "display_data"
    },
    {
     "data": {
      "image/png": "[encoded data removed]",
      "text/plain": [
       "<Figure size 648x360 with 1 Axes>"
      ]
     },
     "metadata": {
      "needs_background": "light"
     },
     "output_type": "display_data"
    },
    {
     "data": {
      "image/png": "[encoded data removed]",
      "text/plain": [
       "<Figure size 648x360 with 1 Axes>"
      ]
     },
     "metadata": {
      "needs_background": "light"
     },
     "output_type": "display_data"
    },
    {
     "data": {
      "image/png": "[encoded data removed]",
      "text/plain": [
       "<Figure size 648x360 with 1 Axes>"
      ]
     },
     "metadata": {
      "needs_background": "light"
     },
     "output_type": "display_data"
    },
    {
     "data": {
      "image/png": "[encoded data removed]",
      "text/plain": [
       "<Figure size 648x360 with 1 Axes>"
      ]
     },
     "metadata": {
      "needs_background": "light"
     },
     "output_type": "display_data"
    },
    {
     "data": {
      "image/png": "[encoded data removed]",
      "text/plain": [
       "<Figure size 648x360 with 1 Axes>"
      ]
     },
     "metadata": {
      "needs_background": "light"
     },
     "output_type": "display_data"
    },
    {
     "data": {
      "image/png": "[encoded data removed]",
      "text/plain": [
       "<Figure size 648x360 with 1 Axes>"
      ]
     },
     "metadata": {
      "needs_background": "light"
     },
     "output_type": "display_data"
    },
    {
     "data": {
      "image/png": "[encoded data removed]",
      "text/plain": [
       "<Figure size 648x360 with 1 Axes>"
      ]
     },
     "metadata": {
      "needs_background": "light"
     },
     "output_type": "display_data"
    }
   ],
   "source": [
    "get_distribution(train)"
   ]
  },
  {
   "cell_type": "code",
   "execution_count": 27,
   "id": "33bd05b5",
   "metadata": {},
   "outputs": [],
   "source": [
    "def graph_distribution(df, target, x):\n",
    "    plt.figure(figsize=(14,10))\n",
    "    sns.histplot(data=df, x=x, hue=target, kde = False, bins = 1200)\n",
    "    plt.xlim(0.5, 3)\n",
    "    plt.xlabel('{} in Percentage'.format(x))"
   ]
  },
  {
   "cell_type": "code",
   "execution_count": 35,
   "id": "68e68149",
   "metadata": {},
   "outputs": [
    {
     "data": {
      "image/png": "[encoded data removed]",
      "text/plain": [
       "<Figure size 1008x720 with 1 Axes>"
      ]
     },
     "metadata": {
      "needs_background": "light"
     },
     "output_type": "display_data"
    }
   ],
   "source": [
    "graph_distribution(train, 'county', 'tax_value')"
   ]
  },
  {
   "cell_type": "code",
   "execution_count": 36,
   "id": "3582dffd",
   "metadata": {},
   "outputs": [
    {
     "data": {
      "text/plain": [
       "<AxesSubplot:xlabel='county', ylabel='tax_value'>"
      ]
     },
     "execution_count": 36,
     "metadata": {},
     "output_type": "execute_result"
    },
    {
     "data": {
      "image/png": "[encoded data removed]",
      "text/plain": [
       "<Figure size 432x288 with 1 Axes>"
      ]
     },
     "metadata": {
      "needs_background": "light"
     },
     "output_type": "display_data"
    }
   ],
   "source": [
    "sns.boxplot(x=train.county,y='tax_value',data=train)"
   ]
  },
  {
   "cell_type": "code",
   "execution_count": null,
   "id": "36ed0653",
   "metadata": {},
   "outputs": [],
   "source": [
    "county_graph = sns.countplot(data = train, x = 'county')\n",
    "county_graph.set(Title = 'County cod')"
   ]
  },
  {
   "cell_type": "code",
   "execution_count": 10,
   "id": "262752dd",
   "metadata": {},
   "outputs": [],
   "source": [
    "#train = train.bedroom_count.astype(int)"
   ]
  },
  {
   "cell_type": "code",
   "execution_count": 33,
   "id": "33a7a234",
   "metadata": {},
   "outputs": [
    {
     "data": {
      "text/plain": [
       "<AxesSubplot:xlabel='age', ylabel='tax_value'>"
      ]
     },
     "execution_count": 33,
     "metadata": {},
     "output_type": "execute_result"
    },
    {
     "data": {
      "image/png": "[encoded data removed]",
      "text/plain": [
       "<Figure size 432x288 with 1 Axes>"
      ]
     },
     "metadata": {
      "needs_background": "light"
     },
     "output_type": "display_data"
    }
   ],
   "source": [
    "sns.lineplot(x = 'age',y='tax_value',data=train)\n"
   ]
  },
  {
   "cell_type": "code",
   "execution_count": 11,
   "id": "de70796a",
   "metadata": {},
   "outputs": [
    {
     "name": "stdout",
     "output_type": "stream",
     "text": [
      "<class 'pandas.core.frame.DataFrame'>\n",
      "Int64Index: 25335 entries, 33416 to 49366\n",
      "Data columns (total 12 columns):\n",
      " #   Column              Non-Null Count  Dtype  \n",
      "---  ------              --------------  -----  \n",
      " 0   bedroom_count       25335 non-null  int64  \n",
      " 1   bathroom_count      25335 non-null  float64\n",
      " 2   square_feet         25335 non-null  int64  \n",
      " 3   tax_value           25335 non-null  float64\n",
      " 4   county              25335 non-null  object \n",
      " 5   age                 25335 non-null  float64\n",
      " 6   county_Orange       25335 non-null  uint8  \n",
      " 7   county_Ventura      25335 non-null  uint8  \n",
      " 8   county_tax_avg      25335 non-null  float64\n",
      " 9   baseline            25335 non-null  float64\n",
      " 10  square_feet_scaled  25335 non-null  float64\n",
      " 11  tax_value_scaled    25335 non-null  float64\n",
      "dtypes: float64(7), int64(2), object(1), uint8(2)\n",
      "memory usage: 2.2+ MB\n"
     ]
    }
   ],
   "source": [
    "train.info()"
   ]
  },
  {
   "cell_type": "code",
   "execution_count": 12,
   "id": "d27cd323",
   "metadata": {},
   "outputs": [],
   "source": [
    "# df['bedroom_count'].astype(int)\n",
    "# df['bathroom_count'].astype(int)\n",
    "# df['square_feet'].astype(int)\n",
    "# df['year_built'].astype(int)"
   ]
  },
  {
   "cell_type": "code",
   "execution_count": 13,
   "id": "5a0727a1",
   "metadata": {},
   "outputs": [],
   "source": [
    "# col_type = ['bedroom_count', 'bathroom_count', 'square_feet', 'year_built']\n",
    "# for col in df.columns[df.columns]:\n",
    "#     df[col] = df[col].astype(int)"
   ]
  },
  {
   "cell_type": "code",
   "execution_count": 14,
   "id": "253859a8",
   "metadata": {},
   "outputs": [
    {
     "data": {
      "text/plain": [
       "bedroom_count         0\n",
       "bathroom_count        0\n",
       "square_feet           0\n",
       "tax_value             0\n",
       "county                0\n",
       "age                   0\n",
       "county_Orange         0\n",
       "county_Ventura        0\n",
       "county_tax_avg        0\n",
       "baseline              0\n",
       "square_feet_scaled    0\n",
       "tax_value_scaled      0\n",
       "dtype: int64"
      ]
     },
     "execution_count": 14,
     "metadata": {},
     "output_type": "execute_result"
    }
   ],
   "source": [
    "#no nulls\n",
    "train.isnull().sum()"
   ]
  },
  {
   "cell_type": "code",
   "execution_count": 15,
   "id": "75ef596f",
   "metadata": {},
   "outputs": [],
   "source": [
    "train['tax_value'] = train['tax_value'].astype(int)"
   ]
  },
  {
   "cell_type": "code",
   "execution_count": 16,
   "id": "2ad0668c",
   "metadata": {},
   "outputs": [
    {
     "name": "stdout",
     "output_type": "stream",
     "text": [
      "<class 'pandas.core.frame.DataFrame'>\n",
      "Int64Index: 25335 entries, 33416 to 49366\n",
      "Data columns (total 12 columns):\n",
      " #   Column              Non-Null Count  Dtype  \n",
      "---  ------              --------------  -----  \n",
      " 0   bedroom_count       25335 non-null  int64  \n",
      " 1   bathroom_count      25335 non-null  float64\n",
      " 2   square_feet         25335 non-null  int64  \n",
      " 3   tax_value           25335 non-null  int64  \n",
      " 4   county              25335 non-null  object \n",
      " 5   age                 25335 non-null  float64\n",
      " 6   county_Orange       25335 non-null  uint8  \n",
      " 7   county_Ventura      25335 non-null  uint8  \n",
      " 8   county_tax_avg      25335 non-null  float64\n",
      " 9   baseline            25335 non-null  float64\n",
      " 10  square_feet_scaled  25335 non-null  float64\n",
      " 11  tax_value_scaled    25335 non-null  float64\n",
      "dtypes: float64(6), int64(3), object(1), uint8(2)\n",
      "memory usage: 2.2+ MB\n"
     ]
    }
   ],
   "source": [
    "train.info()"
   ]
  },
  {
   "cell_type": "code",
   "execution_count": 37,
   "id": "e43dfcec",
   "metadata": {},
   "outputs": [],
   "source": [
    "#implemented\n",
    "# Federal Information Processing System (FIPS)\n",
    "\n",
    "# 6037\tLos Angeles\tCA\n",
    "# 6059\tOrange\tCA\n",
    "# 6111\tVentura\tCA"
   ]
  },
  {
   "cell_type": "code",
   "execution_count": 38,
   "id": "1e9016c8",
   "metadata": {},
   "outputs": [
    {
     "data": {
      "text/plain": [
       "LA         16420\n",
       "Orange      6756\n",
       "Ventura     2159\n",
       "Name: county, dtype: int64"
      ]
     },
     "execution_count": 38,
     "metadata": {},
     "output_type": "execute_result"
    }
   ],
   "source": [
    "train.county.value_counts()"
   ]
  },
  {
   "cell_type": "code",
   "execution_count": 18,
   "id": "cddad28f",
   "metadata": {},
   "outputs": [],
   "source": [
    "#Add 3 mean values in function_station\n",
    "\n",
    "LA = train[train.county == 'LA']\n",
    "LA_avg = round(LA.tax_value.mean(),2)"
   ]
  },
  {
   "cell_type": "code",
   "execution_count": 19,
   "id": "6f2a3284",
   "metadata": {},
   "outputs": [
    {
     "data": {
      "text/plain": [
       "336651.8"
      ]
     },
     "execution_count": 19,
     "metadata": {},
     "output_type": "execute_result"
    }
   ],
   "source": [
    "LA_avg"
   ]
  },
  {
   "cell_type": "code",
   "execution_count": 20,
   "id": "bcb8559c",
   "metadata": {},
   "outputs": [
    {
     "data": {
      "text/plain": [
       "45627"
      ]
     },
     "execution_count": 20,
     "metadata": {},
     "output_type": "execute_result"
    }
   ],
   "source": [
    "45627"
   ]
  },
  {
   "cell_type": "code",
   "execution_count": 40,
   "id": "bb5e9b1d",
   "metadata": {},
   "outputs": [
    {
     "data": {
      "text/plain": [
       "8915"
      ]
     },
     "execution_count": 40,
     "metadata": {},
     "output_type": "execute_result"
    }
   ],
   "source": [
    "2159+6756"
   ]
  },
  {
   "cell_type": "code",
   "execution_count": null,
   "id": "ce0e4d4d",
   "metadata": {},
   "outputs": [],
   "source": [
    "# Here we can see that LA county represents the greatest number of homes in the lower 50% of tax valuations\n",
    "\n",
    "plt.figure(figsize=(12, 6))\n",
    "sns.histplot(data = train, x='tax_value', hue='county', palette = 'twilight_shifted');"
   ]
  },
  {
   "cell_type": "code",
   "execution_count": null,
   "id": "a8c237de",
   "metadata": {},
   "outputs": [],
   "source": [
    "plt.figure(figsize=(16, 6))\n",
    "sns.heatmap(train[features].corr(), cmap=\"coolwarm\", vmin=-1, vmax=1, annot=True, \n",
    "                           center=0, linewidths=4, linecolor='silver')\n",
    "plt.title('Zillow Correlation Heatmap of Trained Data', fontsize=18, pad=12)"
   ]
  },
  {
   "cell_type": "code",
   "execution_count": null,
   "id": "7ab0fcdc",
   "metadata": {},
   "outputs": [],
   "source": []
  },
  {
   "cell_type": "code",
   "execution_count": null,
   "id": "78588e63",
   "metadata": {},
   "outputs": [],
   "source": [
    "#pulled for better format\n",
    "print('Training/In-Sample: \\n')\n",
    "lm = LinearRegression(normalize=True)\n",
    "lm.fit(X_train, y_train['tax_value'])\n",
    "train['y_hat'] = lm.predict(X_train)\n",
    "model.regression_errors(y_train['tax_value'], train['y_hat'])"
   ]
  },
  {
   "cell_type": "code",
   "execution_count": null,
   "id": "a0bf2770",
   "metadata": {},
   "outputs": [],
   "source": [
    "#pulled for better format\n",
    "print('Validation/Out-Of-Sample: \\n')\n",
    "lm = LinearRegression(normalize=True)\n",
    "lm.fit(X_validate, y_validate['tax_value'])\n",
    "validate['y_hat'] = lm.predict(X_validate)\n",
    "model.regression_errors(y_validate['tax_value'], validate['y_hat'])"
   ]
  },
  {
   "cell_type": "code",
   "execution_count": null,
   "id": "cadb149c",
   "metadata": {},
   "outputs": [],
   "source": []
  },
  {
   "cell_type": "code",
   "execution_count": null,
   "id": "d1711c17",
   "metadata": {},
   "outputs": [],
   "source": []
  },
  {
   "cell_type": "code",
   "execution_count": null,
   "id": "9b8d0436",
   "metadata": {},
   "outputs": [],
   "source": []
  },
  {
   "cell_type": "markdown",
   "id": "79a48930",
   "metadata": {},
   "source": [
    "'Accent', 'Accent_r', 'Blues', 'Blues_r', 'BrBG', 'BrBG_r', 'BuGn', 'BuGn_r', 'BuPu', 'BuPu_r', 'CMRmap', 'CMRmap_r', 'Dark2', 'Dark2_r', 'GnBu', 'GnBu_r', 'Greens', 'Greens_r', 'Greys', 'Greys_r', 'OrRd', 'OrRd_r', 'Oranges', 'Oranges_r', 'PRGn', 'PRGn_r', 'Paired', 'Paired_r', 'Pastel1', 'Pastel1_r', 'Pastel2', 'Pastel2_r', 'PiYG', 'PiYG_r', 'PuBu', 'PuBuGn', 'PuBuGn_r', 'PuBu_r', 'PuOr', 'PuOr_r', 'PuRd', 'PuRd_r', 'Purples', 'Purples_r', 'RdBu', 'RdBu_r', 'RdGy', 'RdGy_r', 'RdPu', 'RdPu_r', 'RdYlBu', 'RdYlBu_r', 'RdYlGn', 'RdYlGn_r', 'Reds', 'Reds_r', 'Set1', 'Set1_r', 'Set2', 'Set2_r', 'Set3', 'Set3_r', 'Spectral', 'Spectral_r', 'Wistia', 'Wistia_r', 'YlGn', 'YlGnBu', 'YlGnBu_r', 'YlGn_r', 'YlOrBr', 'YlOrBr_r', 'YlOrRd', 'YlOrRd_r', 'afmhot', 'afmhot_r', 'autumn', 'autumn_r', 'binary', 'binary_r', 'bone', 'bone_r', 'brg', 'brg_r', 'bwr', 'bwr_r', 'cividis', 'cividis_r', 'cool', 'cool_r', 'coolwarm', 'coolwarm_r', 'copper', 'copper_r', 'crest', 'crest_r', 'cubehelix', 'cubehelix_r', 'flag', 'flag_r', 'flare', 'flare_r', 'gist_earth', 'gist_earth_r', 'gist_gray', 'gist_gray_r', 'gist_heat', 'gist_heat_r', 'gist_ncar', 'gist_ncar_r', 'gist_rainbow', 'gist_rainbow_r', 'gist_stern', 'gist_stern_r', 'gist_yarg', 'gist_yarg_r', 'gnuplot', 'gnuplot2', 'gnuplot2_r', 'gnuplot_r', 'gray', 'gray_r', 'hot', 'hot_r', 'hsv', 'hsv_r', 'icefire', 'icefire_r', 'inferno', 'inferno_r', 'jet', 'jet_r', 'magma', 'magma_r', 'mako', 'mako_r', 'nipy_spectral', 'nipy_spectral_r', 'ocean', 'ocean_r', 'pink', 'pink_r', 'plasma', 'plasma_r', 'prism', 'prism_r', 'rainbow', 'rainbow_r', 'rocket', 'rocket_r', 'seismic', 'seismic_r', 'spring', 'spring_r', 'summer', 'summer_r', 'tab10', 'tab10_r', 'tab20', 'tab20_r', 'tab20b', 'tab20b_r', 'tab20c', 'tab20c_r', 'terrain', 'terrain_r', 'turbo', 'turbo_r', 'twilight', 'twilight_r', 'twilight_shifted', 'twilight_shifted_r', 'viridis', 'viridis_r', 'vlag', 'vlag_r', 'winter', 'winter_r'"
   ]
  },
  {
   "cell_type": "code",
   "execution_count": null,
   "id": "3e90a3ba",
   "metadata": {},
   "outputs": [],
   "source": []
  },
  {
   "cell_type": "code",
   "execution_count": null,
   "id": "ada3c4a8",
   "metadata": {},
   "outputs": [],
   "source": []
  },
  {
   "cell_type": "code",
   "execution_count": null,
   "id": "add53686",
   "metadata": {},
   "outputs": [],
   "source": []
  },
  {
   "cell_type": "markdown",
   "id": "60eab491",
   "metadata": {},
   "source": [
    "# /6\n",
    "\n",
    "At least 4 of the questions asked and answered of the data are shared in the final report notebook. You should call out questions of the data using natural language that speaks to the business stakeholders in markdown cells, ideally a header prior to the visualization or statistical test, that you then explore. This does not take the place of stating your null hypothesis/alternative hypothesis when doing a statistical test. But those hypotheses are generally for you. By writing questions that you intend to answer with visualizations and statistical tests in natural language, like \"Are office supplies leading to differences in profit in Texas?\", you are able to guide both yourself and your reader through the highlights of your analysis. You ask a question, create a visual, run a statistical test (if appropriate), and wrap it nicely with a markdown cell that contains a clear answer in layman's terms. You do all that before moving to the next question."
   ]
  },
  {
   "cell_type": "markdown",
   "id": "e14a9d9f",
   "metadata": {},
   "source": [
    "# /6\n",
    "\n",
    "At least 5 visualizations are included in your final report. The ones included answer a question (remember, NO is an answer) and the one(s) to provide necessary context (such as the distribution of the target variable). All statistical tests included in the final report should be supported with an visualization of the interaction of the variables being tested. Charts in the final report should have titles and labels that are descriptive and useful for the end user/audience/consumer of the report. All visualizations in the final report are mentioned or discussed if a verbal presentation is given."
   ]
  },
  {
   "cell_type": "markdown",
   "id": "de543227",
   "metadata": {},
   "source": [
    "/6\n",
    "\n",
    "At least 2 statistical tests are included in your final report. The correct tests are run, given the data type and distribution, and the correct conclusions are drawn. - correlation: 2 continuous variables, normally distributed, testing for LINEAR correlation only (H_0: Not linearly dependent) - independent t-test: 1 continuous, somewhat normally distributed variable, one boolean variable, equal variance, independent (H_0: population mean of each group is equal) - chi-square test: 2 discrete variables. (H_0: the 2 variables are independent of each other). (other tests may be used)"
   ]
  },
  {
   "cell_type": "markdown",
   "id": "1f29a553",
   "metadata": {},
   "source": [
    "# /6\n",
    "Following your exploration section, you summarize your analysis (in a markdown cell using natural language): what you found and how you will use it moving forward. This includes key takeaways from all the questions answered in explore, a list of which features will be used in modeling and why, and which features will not move forward and why. You may only call out a few of these features in the presentation, but having that there for reference is important in a report. A group of features may have the same reason why, and those can be mentioned together."
   ]
  },
  {
   "cell_type": "markdown",
   "id": "317ac53e",
   "metadata": {},
   "source": [
    "/1\n",
    "Having a baseline tells you whether a model you build using the features you selected is any better than predicting by using only the target variable. One way a baseline is created in classification is by making predictions purely based on the most common outcome class, like predicting that all titanic passengers will die, becuase the majroity did die. By doing that, you end up with the highest accuracy without using extra information from features. The baseline is based on the training dataset. For a continuous target variable, the baseline could be predicting that all salaries will be the median salary of our labeled train data. The predictions should be made on the training data using this information (like the predicted value, y_hat, for all passengers \"survived\" == 0) and then performance evaluated to measure your models against. If any model you build does not perform as well as a baseline that uses no features, then your features are not significant drivers of the outcome."
   ]
  },
  {
   "cell_type": "markdown",
   "id": "67bd4ef1",
   "metadata": {},
   "source": [
    "/1\n",
    "All models should be evaluated on train: the training smaple is our largest sample, and it is a sample of data we have to both fit the model AND see how the model performs. We should never skip straight to validate. We would be missing out on valuable observations."
   ]
  },
  {
   "cell_type": "markdown",
   "id": "b39232ff",
   "metadata": {},
   "source": [
    "/1\n",
    "\n",
    "The top models should be evaluated with the validation sample dataset. It is important to use the validate sample for checking for any overfitting that may have occurred when fitting the model on train. If you are creating 10's of models, it is also important to only validate a handful of your top models with the Validate dataset. Otherwise, your data will have seen validate as much as train and you could accidentally introduce some implicit bias based on data and results you see while validating on so many models."
   ]
  },
  {
   "cell_type": "markdown",
   "id": "da9a02e9",
   "metadata": {},
   "source": [
    "/2\n",
    "\n",
    "Clear communication as to how you evaluated and compared models. What metric(s) did you use and why? For example, in one case, you may decide to use precision over accuracy. If so, why? If you use multiple metrics, how will you decide which to select if metric is better for model A but another is better for model B? Will you rank them? Find a way to aggregate them into a single metric you can use to rank?"
   ]
  },
  {
   "cell_type": "markdown",
   "id": "605f911a",
   "metadata": {},
   "source": [
    "/2\n",
    "\n",
    "Your top performing model, and only your top performing model should be evaluated on your test dataset. The purpose of having a test dataset to evaluate only the final model on is to have an estimate of how the model will perform in the future on data it has never seen."
   ]
  },
  {
   "cell_type": "markdown",
   "id": "83e66ec5",
   "metadata": {},
   "source": [
    "/3\n",
    "\n",
    "The 3 models can differ based on the features used, the hyperparameters selected, and/or the algorithm used to fit the data.\n"
   ]
  },
  {
   "cell_type": "markdown",
   "id": "c5f93005",
   "metadata": {},
   "source": [
    "/6\n",
    "\n",
    "Your code contains code comments that are helpful to the reader in understanding what each blocks/lines of code are doing.\n"
   ]
  },
  {
   "cell_type": "markdown",
   "id": "b819f4fe",
   "metadata": {},
   "source": [
    "/6\n",
    "\n",
    "Notebook contains adequate markdown that documents your thought process, decision making, and navigation through the pipeline. This should be present throughout the notebook consistently, wtih not just headers, but plenty of content that guides the reader and leaves no questions or doubt as to why you did something, e.g.\n"
   ]
  },
  {
   "cell_type": "markdown",
   "id": "b137579a",
   "metadata": {},
   "source": [
    "/2\n",
    "\n",
    "Always be aware of the audience and setting for your presentation. What is the appropriate level of technicality? What is the appropriate depth given audience, setting and medium in which its delivered. The way you communicate should be appropriate for the audience: volume, speed of talk, flow, professionalism. (Zillow Data Science Team, virtually delivered via jupyter notebook).\n"
   ]
  },
  {
   "cell_type": "markdown",
   "id": "650df960",
   "metadata": {},
   "source": [
    "/2\n",
    "\n",
    "Your conclusion summary should addresses the questions you raised in the opening of the project, which we would want to see at the end of every final notebook. Ideally, when the deliverable is a report, the summary should tie together your analysis, the drivers of the outcome, and how you would expect your ML model to perform in the future on unseen data, in layman's terms.\n"
   ]
  },
  {
   "cell_type": "markdown",
   "id": "5ce71726",
   "metadata": {},
   "source": [
    "/2\n",
    "\n",
    "Your notebook should end with actionable recommendations based on your insights and analysis on a way to make a better model, such as a new feature or an algorithm or something you found that doesn't work.\n"
   ]
  },
  {
   "cell_type": "markdown",
   "id": "bdf206e7",
   "metadata": {},
   "source": [
    "/2\n",
    "\n",
    "Your conclusion should include next steps from a data science perspective that will assist in improving your research. Ideally, if you talk about trying more algorithms to improve performance, think about why you need to improve performance. And if the business calls for it, remember the best way to improve performance is to have better predictors/features. If you talk about gathering more data, being specific about what data you think will help you understand the problem better and why is the way to go!"
   ]
  },
  {
   "cell_type": "markdown",
   "id": "999f8465",
   "metadata": {},
   "source": [
    "/2\n",
    "\n",
    "Presentation is concluded with a summary of what was found, recommendations, and next steps. The presentation does not just drop off after modeling, but the entire project is nicely tied up and summarized.\n"
   ]
  },
  {
   "cell_type": "markdown",
   "id": "aa1810a2",
   "metadata": {},
   "source": [
    "/2 \n",
    "\n",
    "Time limit of 5 minutes is adhered to. The time is managed well, in that there is appropriate time spent on each section. The time of 5 minutes should not be met by talking quickly but by reducing the amount or depth of information conveyed, and by finding easier and more simplified methods to convey the more complex information. The speech should be natural, and take the time needed for the audience to consume the information. So the time is well spent when you have practiced and you have taken the extra time it takes to reduce the content in your notebook and presentation. Time should not be spent scrolling through 10's of visualizations or hundreds of lines of code."
   ]
  },
  {
   "cell_type": "markdown",
   "id": "23d1a69d",
   "metadata": {},
   "source": [
    "/2\n",
    "\n",
    "Your final notebook should run without error. One error in a notebook can lead to the rest of it erroring out. If you have a reader who doesn't know python, they will then not be able to consume your report.\n"
   ]
  },
  {
   "cell_type": "markdown",
   "id": "d0b47a4d",
   "metadata": {},
   "source": [
    "/3\n",
    "\n",
    "Accurate sample was acquired from the mySQL zillow database. Properties_2017 table was used. Predictions_2017 was used to filter to properties that had a transaction during 2017. Properties were then filtered down to the single family homes only. You should have ended with 52,442 properties based on that criteria. Be sure and add a conditional statement to your acquire script to read a local csv of the sample that you saved so you don't have to run the query every time you re-run your notebook!\n",
    "\n",
    "### 52,442:\n",
    "\n",
    "SELECT * FROM properties_2017\n",
    "JOIN propertylandusetype USING(propertylandusetypeid)\n",
    "JOIN predictions_2017 USING(parcelid)\n",
    "WHERE propertylandusetype.propertylandusetypeid = 261 AND 279;"
   ]
  },
  {
   "cell_type": "markdown",
   "id": "23c9e428",
   "metadata": {},
   "source": [
    "/3\n",
    "\n",
    "Module(s) with user-defined functions for acquiring and preparing the data should be created. Each function contains a helpful docstring explaining what it does, its input(s) and output(s). Credentials (such as in an env.py file) are NOT included in the public repo.\n"
   ]
  },
  {
   "cell_type": "markdown",
   "id": "f07c8a29",
   "metadata": {},
   "source": [
    "/1\n",
    "\n",
    "When splitting data into samples, someone should be able to run your code and get the same observations in the same samples, i.e. reproduce your split, because you set the random state to a seed. There should be 3 adequately sized samples - train, validate, and test. As a good starting point, 50%, 30%, and 20%, (or 50%, 26%, 24% for simplicity when doing the splitting) are reasonable split proportions. But that can vary depending on the number of observations you have. Test can go as low as 10% if needed.\n"
   ]
  },
  {
   "cell_type": "code",
   "execution_count": null,
   "id": "1dd4ad5f",
   "metadata": {},
   "outputs": [],
   "source": []
  },
  {
   "cell_type": "code",
   "execution_count": null,
   "id": "565e6719",
   "metadata": {},
   "outputs": [],
   "source": [
    "#turning my y_train and y_validate to dataframes so we can append new columns\n",
    "y_train = pd.DataFrame(y_train)\n",
    "y_validate = pd.DataFrame(y_validate)\n",
    "\n",
    "#tax_value mean\n",
    "appraised_value_pred_mean = y_train['appraised_value'].mean()\n",
    "y_train['appraised_value_pred_mean'] = appraised_value_pred_mean\n",
    "y_validate['appraised_value_pred_mean'] = appraised_value_pred_mean\n",
    "\n",
    "#tax_value_median\n",
    "appraised_value_pred_median = y_train['appraised_value'].median()\n",
    "y_train['appraised_value_pred_median'] = appraised_value_pred_median\n",
    "y_validate['appraised_value_pred_median'] = appraised_value_pred_median\n",
    "\n",
    "#RMSE of tax_value_pred_mean\n",
    "rmse_train = mean_squared_error(y_train.appraised_value, y_train.appraised_value_pred_mean)**(1/2)\n",
    "rmse_validate = mean_squared_error(y_validate.appraised_value, y_validate.appraised_value_pred_mean)**(1/2)\n",
    "\n",
    "print('             BASELINE')\n",
    "print('----------------------------------')\n",
    "print(\"RMSE using Mean\\nTrain/In-Sample: \", round(rmse_train, 2), \n",
    "      \"\\nValidate/Out-of-Sample: \", round(rmse_validate, 2))\n",
    "print('----------------------------------')\n",
    "\n",
    "#RMSE of tax_value_pred_median\n",
    "rmse_train = mean_squared_error(y_train.appraised_value, y_train.appraised_value_pred_median)**(1/2)\n",
    "rmse_validate = mean_squared_error(y_validate.appraised_value, y_validate.appraised_value_pred_median)**(1/2)\n",
    "\n",
    "print(\"RMSE using Median\\nTrain/In-Sample: \", round(rmse_train, 2), \n",
    "      \"\\nValidate/Out-of-Sample: \", round(rmse_validate, 2))\n",
    "print('----------------------------------')\n",
    "r2_baseline = r2_score(y_validate.appraised_value, y_validate.appraised_value_pred_mean)\n",
    "print(f'The r^2 score for baseline is {r2_baseline}')"
   ]
  }
 ],
 "metadata": {
  "kernelspec": {
   "display_name": "Python 3",
   "language": "python",
   "name": "python3"
  },
  "language_info": {
   "codemirror_mode": {
    "name": "ipython",
    "version": 3
   },
   "file_extension": ".py",
   "mimetype": "text/x-python",
   "name": "python",
   "nbconvert_exporter": "python",
   "pygments_lexer": "ipython3",
   "version": "3.8.8"
  }
 },
 "nbformat": 4,
 "nbformat_minor": 5
}
